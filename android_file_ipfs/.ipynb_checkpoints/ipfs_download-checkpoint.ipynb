{
 "cells": [
  {
   "cell_type": "code",
   "execution_count": 1,
   "metadata": {},
   "outputs": [
    {
     "name": "stdout",
     "output_type": "stream",
     "text": [
      "<ipfshttpclient.client.Client object at 0x0000025671B2CCC8>\n",
      "True\n"
     ]
    }
   ],
   "source": [
    "import ipfshttpclient\n",
    "import os\n",
    "from pathlib import Path\n",
    "from web3 import Web3\n",
    "import json\n",
    "\n",
    "path=Path()\n",
    "client=ipfshttpclient.connect('/ip4/127.0.0.1/tcp/5001/http')\n",
    "print(client)\n",
    "url = \"http://localhost:8545\"\n",
    "web3 = Web3(Web3.HTTPProvider(url))\n",
    "print(web3.isConnected())\n",
    "web3.eth.defaultAccount = web3.eth.accounts[0]\n",
    "address=web3.toChecksumAddress('0xea8c53f6190279563e58f89ab5aec62bae6d8e9c')\n",
    "abi = json.loads('[{\"constant\":true,\"inputs\":[],\"name\":\"get_data\",\"outputs\":[{\"name\":\"\",\"type\":\"string\"}],\"payable\":false,\"stateMutability\":\"view\",\"type\":\"function\"},{\"constant\":false,\"inputs\":[{\"name\":\"_name\",\"type\":\"string\"}],\"name\":\"set_data\",\"outputs\":[],\"payable\":false,\"stateMutability\":\"nonpayable\",\"type\":\"function\"},{\"constant\":true,\"inputs\":[],\"name\":\"data\",\"outputs\":[{\"name\":\"\",\"type\":\"string\"}],\"payable\":false,\"stateMutability\":\"view\",\"type\":\"function\"}]')\n",
    "contract = web3.eth.contract(address=address, abi=abi)"
   ]
  },
  {
   "cell_type": "code",
   "execution_count": null,
   "metadata": {},
   "outputs": [
    {
     "name": "stdout",
     "output_type": "stream",
     "text": [
      "old data #1_data9.bin##@@6c2906717c4abdae8b13d63df7562113ce32e1ff53c9daf138a0c86a628846bb##@@QmbpqYJsd1c3CfRB8ujf7e5hkNQh8MkZqon8hUpHYJSYKm##@@1024256%%@@1_data8.bin##@@cc7e8cea00d30de98084795b6ce308d1fdc89e0b109c9ac87834aea30995f32a##@@QmXmFmjRf8gfkPYPwGaPyM72pkrgQtY97mQ5R8hvrYwrCQ##@@1024256%%@@1_data7.bin##@@f01ecf669c867ddf6288c77bdf128b76b2084a35368033816960defe779a0fb9##@@QmP9wJYywN6y9Kvnz3CJwCYvHaKTJmN6CvBAuvcNqoC9EE##@@1024256%%@@1_data6.bin##@@6a931595b17267e89f1a3bd4415f70d47f48574a63224ee9b0a5af1a9432f6d9##@@QmNN6Hcvjw91RHD2fDwV8xHgfEXxJy3vetbSYtSysPKN6f##@@1024256%%@@1_data5.bin##@@aeb2282db5ba753042016f03558a722db9ab8f5e8c3f5798b65df9ea0034e83f##@@QmaRezUakpQDeUPZHuccnUgcEtbZM5xNNvoUSeX4hxuzDJ##@@1024256%%@@1_data4.bin##@@f2acac204e44fc4cec2024e3ef725837c5f9287652c14347dab328cc23a6cf5f##@@QmQ7Z5aEyUoh46xGKMNu9Pn8irMAsQmeLawRdq721N95xw##@@1024256%%@@1_data3.bin##@@4f75715b7bd0a25496e6b4c7b25b311b2d513385df8111652976a308d3fdd382##@@QmY2AT4D8V8Dp1tnYDd7X6A5a92TfFmPvHRJrfnqr2WJ7D##@@1024256%%@@1_data2.bin##@@b01aadc6443b59fdc4cecd74013189f1ffa891fcc3cf93fe6627a071faa7f12a##@@QmcSEigJna9KH9DjUyQoagiHXk91WDadGBfsEYA5x9wYNR##@@1024256%%@@1_data12.bin##@@3e33516ac696aa5ee10e0980cc855788882794d26b571e8165ff0d81c7047c90##@@QmPCwvP42GmieEuie5bf9LcKEqTje9HKsXhE5hRtSTH4xw##@@140866%%@@1_data11.bin##@@0914e5a01b10834df97049f13ae479ade0cf85d6b657d08612fd0f93a0e4b7bf##@@QmaM8k5XFm7o6vAako9uHt5GkwENktngGU8AB55NY8oLGX##@@1024256%%@@1_data10.bin##@@9732a03845e1a83a75ed56bdddb41f86e9f5549d605f233b40edbb586e549648##@@QmRXXN3QafxAUbjKyztvKAJVZLfGy6Dn1PaFj7TwgeH4PR##@@1024256%%@@1_data1.bin##@@5d0798438f5a2955bcc77f9140eb995d096d2d61ad1442e72bb50a5a5cd21c9a##@@QmRG3DCrYxN8ivyABbqMEG8moHGSRNxjfNgrkfk515pDiU##@@1024256%%@@1_data0.bin##@@d88941747f425f9aaf582155415442b804591d6d6adbeb352cad4be2c19aabbe##@@QmUYdupRHcmCozXoSSzgXB1ZbMmiYNzqmxT6tCC2TdRbd7##@@1024256%%@@\n",
      "1_data8.bin cc7e8cea00d30de98084795b6ce308d1fdc89e0b109c9ac87834aea30995f32a QmXmFmjRf8gfkPYPwGaPyM72pkrgQtY97mQ5R8hvrYwrCQ 1024256\n",
      "1_data7.bin f01ecf669c867ddf6288c77bdf128b76b2084a35368033816960defe779a0fb9 QmP9wJYywN6y9Kvnz3CJwCYvHaKTJmN6CvBAuvcNqoC9EE 1024256\n",
      "1_data6.bin 6a931595b17267e89f1a3bd4415f70d47f48574a63224ee9b0a5af1a9432f6d9 QmNN6Hcvjw91RHD2fDwV8xHgfEXxJy3vetbSYtSysPKN6f 1024256\n",
      "1_data5.bin aeb2282db5ba753042016f03558a722db9ab8f5e8c3f5798b65df9ea0034e83f QmaRezUakpQDeUPZHuccnUgcEtbZM5xNNvoUSeX4hxuzDJ 1024256\n",
      "1_data4.bin f2acac204e44fc4cec2024e3ef725837c5f9287652c14347dab328cc23a6cf5f QmQ7Z5aEyUoh46xGKMNu9Pn8irMAsQmeLawRdq721N95xw 1024256\n",
      "1_data3.bin 4f75715b7bd0a25496e6b4c7b25b311b2d513385df8111652976a308d3fdd382 QmY2AT4D8V8Dp1tnYDd7X6A5a92TfFmPvHRJrfnqr2WJ7D 1024256\n",
      "1_data2.bin b01aadc6443b59fdc4cecd74013189f1ffa891fcc3cf93fe6627a071faa7f12a QmcSEigJna9KH9DjUyQoagiHXk91WDadGBfsEYA5x9wYNR 1024256\n",
      "1_data12.bin 3e33516ac696aa5ee10e0980cc855788882794d26b571e8165ff0d81c7047c90 QmPCwvP42GmieEuie5bf9LcKEqTje9HKsXhE5hRtSTH4xw 140866\n",
      "1_data11.bin 0914e5a01b10834df97049f13ae479ade0cf85d6b657d08612fd0f93a0e4b7bf QmaM8k5XFm7o6vAako9uHt5GkwENktngGU8AB55NY8oLGX 1024256\n",
      "1_data10.bin 9732a03845e1a83a75ed56bdddb41f86e9f5549d605f233b40edbb586e549648 QmRXXN3QafxAUbjKyztvKAJVZLfGy6Dn1PaFj7TwgeH4PR 1024256\n",
      "1_data1.bin 5d0798438f5a2955bcc77f9140eb995d096d2d61ad1442e72bb50a5a5cd21c9a QmRG3DCrYxN8ivyABbqMEG8moHGSRNxjfNgrkfk515pDiU 1024256\n",
      "1_data0.bin d88941747f425f9aaf582155415442b804591d6d6adbeb352cad4be2c19aabbe QmUYdupRHcmCozXoSSzgXB1ZbMmiYNzqmxT6tCC2TdRbd7 1024256\n"
     ]
    }
   ],
   "source": [
    "while True:\n",
    "    f=open('get.txt','r')\n",
    "    status=f.read()\n",
    "    f.close()\n",
    "    if status!='':\n",
    "        mid=status\n",
    "        chain_data=contract.functions.get_data().call()\n",
    "        print(\"old data\",chain_data)\n",
    "        l=chain_data.split('%%@@')\n",
    "        for x in l:\n",
    "            l1=x.split('##@@')\n",
    "            if str(l1[0]).startswith(mid+\"_data\"):\n",
    "                fname=l1[0]\n",
    "                fhash=l1[1]\n",
    "                ipfs_hash=l1[2]\n",
    "                fsize=l1[3]\n",
    "                print(fname,fhash,ipfs_hash,fsize)\n",
    "                getfile=client.cat(ipfs_hash)\n",
    "                f = open(fname, \"wb\")\n",
    "                f.write(getfile)\n",
    "                f.close()\n",
    "                f=open(fname+\".txt\",'w')\n",
    "                f.write(fhash)\n",
    "                f.close()\n",
    "        f=open('download_status.txt','w')\n",
    "        f.write('done')\n",
    "        f.close()\n",
    "        f=open('get.txt','w')\n",
    "        f.write('')\n",
    "        f.close()"
   ]
  },
  {
   "cell_type": "code",
   "execution_count": null,
   "metadata": {},
   "outputs": [],
   "source": []
  }
 ],
 "metadata": {
  "kernelspec": {
   "display_name": "Python 3",
   "language": "python",
   "name": "python3"
  },
  "language_info": {
   "codemirror_mode": {
    "name": "ipython",
    "version": 3
   },
   "file_extension": ".py",
   "mimetype": "text/x-python",
   "name": "python",
   "nbconvert_exporter": "python",
   "pygments_lexer": "ipython3",
   "version": "3.7.6"
  }
 },
 "nbformat": 4,
 "nbformat_minor": 4
}
