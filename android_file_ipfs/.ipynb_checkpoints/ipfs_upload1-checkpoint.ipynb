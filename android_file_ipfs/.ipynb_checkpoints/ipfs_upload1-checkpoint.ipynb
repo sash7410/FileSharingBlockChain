{
 "cells": [
  {
   "cell_type": "code",
   "execution_count": 2,
   "metadata": {},
   "outputs": [
    {
     "name": "stdout",
     "output_type": "stream",
     "text": [
      "<ipfshttpclient.client.Client object at 0x0000026233344310>\n",
      "True\n"
     ]
    }
   ],
   "source": [
    "import ipfshttpclient\n",
    "import os\n",
    "from pathlib import Path\n",
    "from web3 import Web3\n",
    "import json\n",
    "\n",
    "path=Path()\n",
    "client=ipfshttpclient.connect('/ip4/127.0.0.1/tcp/5001/http')\n",
    "print(client)\n",
    "url = \"http://localhost:7545\"\n",
    "web3 = Web3(Web3.HTTPProvider(url))\n",
    "print(web3.isConnected())\n",
    "web3.eth.defaultAccount = web3.eth.accounts[0]\n",
    "address=web3.toChecksumAddress('0x0caab5355608dcdf96be7cb3f70ec66f4047fd4d')\n",
    "abi = json.loads('[{\"constant\":true,\"inputs\":[],\"name\":\"get_data\",\"outputs\":[{\"name\":\"\",\"type\":\"string\"}],\"payable\":false,\"stateMutability\":\"view\",\"type\":\"function\"},{\"constant\":false,\"inputs\":[{\"name\":\"_name\",\"type\":\"string\"}],\"name\":\"set_data\",\"outputs\":[],\"payable\":false,\"stateMutability\":\"nonpayable\",\"type\":\"function\"},{\"constant\":true,\"inputs\":[],\"name\":\"data\",\"outputs\":[{\"name\":\"\",\"type\":\"string\"}],\"payable\":false,\"stateMutability\":\"view\",\"type\":\"function\"}]')\n",
    "contract = web3.eth.contract(address=address, abi=abi)"
   ]
  },
  {
   "cell_type": "code",
   "execution_count": null,
   "metadata": {},
   "outputs": [
    {
     "name": "stdout",
     "output_type": "stream",
     "text": [
      "old data %%@@test.pdf##@@730876c0901e48d79f67193691e28773caa5deae008f9ffc6474642b905a4fcb##@@QmaB5MKaHupXBhYPjHXB4YNkdUT5andkHziDo6BYxxqvtL##@@7742554\n",
      "resp= b'%E\\x95\\x1b\\x07\\xdaT\\xf2\\x12\\xaa\\x138c\\xa6\\x98\\x8a\\xdd^\\xc8\\xac\\xa8\\x1bx\\x83\\x15\\xee\\xcaVS\\x95U\\x89'\n",
      "old data %%@@test.pdf##@@730876c0901e48d79f67193691e28773caa5deae008f9ffc6474642b905a4fcb##@@QmaB5MKaHupXBhYPjHXB4YNkdUT5andkHziDo6BYxxqvtL##@@7742554#\n",
      "resp= b'vk|f\\xbf\\x82\\x16\\xc5\\xffU\\x04\\xd7\\x84}\\xad\\n\\xae\\x158\\tq_w\\xa8+\\xd8\\x99\\xa6K\\x05}\\x0e'\n",
      "old data %%@@test.pdf##@@730876c0901e48d79f67193691e28773caa5deae008f9ffc6474642b905a4fcb##@@QmaB5MKaHupXBhYPjHXB4YNkdUT5andkHziDo6BYxxqvtL##@@7742554##\n",
      "resp= b\"V\\x08\\t$\\xab'l)_\\x83\\xf4\\t\\xb3\\x87d\\xf3N }\\x13\\xca\\xfd\\xb3\\x0345\\x16\\xdf\\xeb\\xf9\\x9c\\xa9\"\n",
      "old data %%@@test.pdf##@@730876c0901e48d79f67193691e28773caa5deae008f9ffc6474642b905a4fcb##@@QmaB5MKaHupXBhYPjHXB4YNkdUT5andkHziDo6BYxxqvtL##@@7742554###\n",
      "resp= b'p\\xc1\\x7f\\xadRuK\\x94\\x181l<NE\\x8d\\xb7\\r\\x07C\\x12I&0\\xe1H=H\\xc8\\xab\\x0f\\xf8j'\n",
      "old data %%@@test.pdf##@@730876c0901e48d79f67193691e28773caa5deae008f9ffc6474642b905a4fcb##@@QmaB5MKaHupXBhYPjHXB4YNkdUT5andkHziDo6BYxxqvtL##@@7742554####\n",
      "resp= b'\\x7f \\r\\x14\\x9fq\\x03\\x1e\\x8d^lD\\x04c\\x19\\x19\\x1d.W\\xa1\\x9f<\\x98GM\\xad\\nx\\xf4n\\x19r'\n",
      "old data %%@@test.pdf##@@730876c0901e48d79f67193691e28773caa5deae008f9ffc6474642b905a4fcb##@@QmaB5MKaHupXBhYPjHXB4YNkdUT5andkHziDo6BYxxqvtL##@@7742554#####\n",
      "resp= b'H\\x1b\\xefe\\xaa\\x86\\x01\\x1e\\xd9~8\\xc6\\xb8\\xb8\\x0bde\\xebX\\x7f\\xf9\\x8bH\\xe8:\\x8d\\xdeYc\\x84\\xa6\\xd0'\n",
      "old data %%@@test.pdf##@@730876c0901e48d79f67193691e28773caa5deae008f9ffc6474642b905a4fcb##@@QmaB5MKaHupXBhYPjHXB4YNkdUT5andkHziDo6BYxxqvtL##@@7742554######\n",
      "resp= b'\\x08-\\x06\\xb5Iro\\xa9\\xbb.}\\xf7\\\\\\x91\\xe1N\\x15\\xd5\\x05\\x83\\xaa`C\\x83\\xdc\\n\\xe88\\xe7\\x98\\xc7X'\n",
      "old data %%@@test.pdf##@@730876c0901e48d79f67193691e28773caa5deae008f9ffc6474642b905a4fcb##@@QmaB5MKaHupXBhYPjHXB4YNkdUT5andkHziDo6BYxxqvtL##@@7742554#######\n",
      "resp= b'J3\\x9d\\x9f\\x7fh\\xc3\\xc3\\xeb\\xf1 \\xbe\\x875D\\xa1\\xd50\\x174\\xe1\\xfbJ:.+\\xa26\\xdf\\x1c\\xc4\\x88'\n",
      "old data %%@@test.pdf##@@730876c0901e48d79f67193691e28773caa5deae008f9ffc6474642b905a4fcb##@@QmaB5MKaHupXBhYPjHXB4YNkdUT5andkHziDo6BYxxqvtL##@@7742554########\n",
      "resp= b'\\xadG\\xf0\\xf6\\xe3\\x07\\x97\\xea71\\x1aH5 B\\x0c\\xbf9J\\x80B\\xc7\\x06\\x9d\\xd2\\xac\\xb2t\\\\\\x84z\\xca'\n",
      "old data %%@@test.pdf##@@730876c0901e48d79f67193691e28773caa5deae008f9ffc6474642b905a4fcb##@@QmaB5MKaHupXBhYPjHXB4YNkdUT5andkHziDo6BYxxqvtL##@@7742554#########\n",
      "resp= b'\\xf4\\xce\\xf08\\xcb\\xa4\\xa0\\xb6\\t\\xef1\\xae\\x8e\\xe4\\r\\xb9\\xe9\\x03\\x06D\\x9d{\\xcc\\xda;K\\xf6\\xa8\\xa9\\xa5_\\xb1'\n",
      "old data %%@@test.pdf##@@730876c0901e48d79f67193691e28773caa5deae008f9ffc6474642b905a4fcb##@@QmaB5MKaHupXBhYPjHXB4YNkdUT5andkHziDo6BYxxqvtL##@@7742554##########\n",
      "resp= b'\\xd1\\xfa[\\x0bv\\x11\\x87\\xded\\x08\\xd5\\xcd\\x88\\x14\\xceO8\\x06\\x14%=\\xcbg\\xaa\\xcc\\xa2\\x00\\x8c\\xadHA('\n",
      "old data %%@@test.pdf##@@730876c0901e48d79f67193691e28773caa5deae008f9ffc6474642b905a4fcb##@@QmaB5MKaHupXBhYPjHXB4YNkdUT5andkHziDo6BYxxqvtL##@@7742554###########\n",
      "resp= b'\\xc3c\\xee\\xf2\\x98\\xdc\\xdb\\x9ao,\\x18\\xc6\\x00V\\x19\\x00HY\\x163\\x9aJ\\x0f\\xea\\xbcz\\t\\xb3I:Sb'\n",
      "old data %%@@test.pdf##@@730876c0901e48d79f67193691e28773caa5deae008f9ffc6474642b905a4fcb##@@QmaB5MKaHupXBhYPjHXB4YNkdUT5andkHziDo6BYxxqvtL##@@7742554############\n",
      "resp= b'j\\xda\\x85\\xf5&j68\\xcb\\xaa?x1@\\xff\\xd0f\\xc3\\xcf\\xe4\\xe6\\xa4\\xb9\\xd8\\t\\x05*\\xd2\\xc2\\xa3\\x8a\\x00'\n",
      "old data %%@@test.pdf##@@730876c0901e48d79f67193691e28773caa5deae008f9ffc6474642b905a4fcb##@@QmaB5MKaHupXBhYPjHXB4YNkdUT5andkHziDo6BYxxqvtL##@@7742554#############\n",
      "resp= b'\\xac\\xe1\\xabRWh\\x1a\\xf4\\xfc\\xcc\\x93\\xab\\xb5o\\xb2\\xb2\\xe4E\\xb8\\xe8\\x9ef\\x82\\xcfK\\x88\\x13z6\\xe3\\\\\\x91'\n",
      "old data %%@@test.pdf##@@730876c0901e48d79f67193691e28773caa5deae008f9ffc6474642b905a4fcb##@@QmaB5MKaHupXBhYPjHXB4YNkdUT5andkHziDo6BYxxqvtL##@@7742554##############\n",
      "resp= b'\\xee\\x9d\\xf5%\\x15e\\xb8\\xa139\\xe3#tgK\\xa0\\x1d\\xc7\\n\\xe2\\xb2v\\x03;/\\x8bk7\\x93!\\x04\\t'\n",
      "old data %%@@test.pdf##@@730876c0901e48d79f67193691e28773caa5deae008f9ffc6474642b905a4fcb##@@QmaB5MKaHupXBhYPjHXB4YNkdUT5andkHziDo6BYxxqvtL##@@7742554###############\n",
      "resp= b'\\xecRp\\x9e4\\xf6,\\xa8\\t\\xd2\\xb3\\xe6\\xbb\\xc9O\\xf4q\\xf76\\xf2\\xe3\\x8f\\xeaj\\x07U\\x99}\\xed}CD'\n",
      "old data %%@@test.pdf##@@730876c0901e48d79f67193691e28773caa5deae008f9ffc6474642b905a4fcb##@@QmaB5MKaHupXBhYPjHXB4YNkdUT5andkHziDo6BYxxqvtL##@@7742554################\n",
      "resp= b\"\\xee'\\x93q\\xe9j\\x94\\xf2+\\xbb\\x95=y;?\\xcdL\\xe1?\\xd1\\xf4\\xb3\\x8be>^P\\x83\\x7f\\xd1\\xe1\\xd8\"\n",
      "old data %%@@test.pdf##@@730876c0901e48d79f67193691e28773caa5deae008f9ffc6474642b905a4fcb##@@QmaB5MKaHupXBhYPjHXB4YNkdUT5andkHziDo6BYxxqvtL##@@7742554#################\n",
      "resp= b'\\x98\\xc1\\x1c$h\\x02\\x00T;w]\\x9c3\\xf5A \\xde-\\xfb\\x85\\xa7xl\\x1a\\\\L\\xe1\\x14\\x0f/\\xcat'\n",
      "old data %%@@test.pdf##@@730876c0901e48d79f67193691e28773caa5deae008f9ffc6474642b905a4fcb##@@QmaB5MKaHupXBhYPjHXB4YNkdUT5andkHziDo6BYxxqvtL##@@7742554##################\n",
      "resp= b'e\\x88>\\xb3\\x10\\xcc\\xee\\x1c\\xe5`\\xec\\x11\\x88\\xca\\x0e|Ca\\xe0\\x8b\\x97bZk<\\x8d\\x10R\\xd1\\xfeQ\\x0e'\n",
      "old data %%@@test.pdf##@@730876c0901e48d79f67193691e28773caa5deae008f9ffc6474642b905a4fcb##@@QmaB5MKaHupXBhYPjHXB4YNkdUT5andkHziDo6BYxxqvtL##@@7742554###################\n"
     ]
    }
   ],
   "source": [
    "while True:\n",
    "    f=open('status.txt','r')\n",
    "    status=f.read()\n",
    "    f.close()\n",
    "    if status=='upload':\n",
    "        blk_info=\"\"\n",
    "        for file in path.glob('*.bin'):\n",
    "            print(file)\n",
    "            if Path(file).is_file():\n",
    "                print (\"File exist\")\n",
    "                res=client.add(file)\n",
    "                print(res)\n",
    "                print(res['Name'])\n",
    "                print(res['Hash'])\n",
    "                print(res['Size'])\n",
    "                #fl=str(res['Name'])\n",
    "                fname=str(res['Name'])\n",
    "                print(fname)\n",
    "                #l=fname.split('.')\n",
    "                f=open(fname+\".txt\",'r')\n",
    "                fhash=f.read()\n",
    "                f.close()\n",
    "                print(\"fhash\",fhash)\n",
    "                os.remove(file)\n",
    "                os.remove(fname+\".txt\")\n",
    "                f=open('status.txt','w')\n",
    "                f.write('')\n",
    "                f.close()\n",
    "                blk_info=fname+\"##@@\"+fhash+\"##@@\"+res['Hash']+'##@@'+res['Size']+\"%%@@\"+blk_info\n",
    "                print(blk_info)\n",
    "        f=open('details.txt','w')\n",
    "        f.write(blk_info)\n",
    "        f.close()\n",
    "        new_data=blk_info\n",
    "        chain_data=contract.functions.get_data().call()\n",
    "        print(\"old data\",chain_data)\n",
    "        new_data=chain_data+\"#\"+new_data\n",
    "        resp = contract.functions.set_data(new_data).transact()\n",
    "        web3.eth.waitForTransactionReceipt(resp)\n",
    "        print('resp=',resp)\n",
    "        "
   ]
  },
  {
   "cell_type": "code",
   "execution_count": null,
   "metadata": {},
   "outputs": [],
   "source": []
  }
 ],
 "metadata": {
  "kernelspec": {
   "display_name": "Python 3",
   "language": "python",
   "name": "python3"
  },
  "language_info": {
   "codemirror_mode": {
    "name": "ipython",
    "version": 3
   },
   "file_extension": ".py",
   "mimetype": "text/x-python",
   "name": "python",
   "nbconvert_exporter": "python",
   "pygments_lexer": "ipython3",
   "version": "3.8.8"
  }
 },
 "nbformat": 4,
 "nbformat_minor": 4
}
